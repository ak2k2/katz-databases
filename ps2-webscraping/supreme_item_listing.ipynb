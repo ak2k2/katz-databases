{
 "cells": [
  {
   "cell_type": "code",
   "execution_count": 35,
   "metadata": {},
   "outputs": [],
   "source": [
    "import pandas as pd\n",
    "import matplotlib.pyplot as plt\n",
    "import plotly\n",
    "\n",
    "# read in supreme_products.csv\n",
    "df = pd.read_csv('scraped_item_listings/supreme_products_wa_20230404055653.csv.csv')"
   ]
  },
  {
   "cell_type": "code",
   "execution_count": 23,
   "metadata": {},
   "outputs": [
    {
     "data": {
      "text/html": [
       "<div>\n",
       "<style scoped>\n",
       "    .dataframe tbody tr th:only-of-type {\n",
       "        vertical-align: middle;\n",
       "    }\n",
       "\n",
       "    .dataframe tbody tr th {\n",
       "        vertical-align: top;\n",
       "    }\n",
       "\n",
       "    .dataframe thead th {\n",
       "        text-align: right;\n",
       "    }\n",
       "</style>\n",
       "<table border=\"1\" class=\"dataframe\">\n",
       "  <thead>\n",
       "    <tr style=\"text-align: right;\">\n",
       "      <th></th>\n",
       "      <th>Name</th>\n",
       "      <th>Description</th>\n",
       "      <th>Price</th>\n",
       "      <th>Image URLs</th>\n",
       "    </tr>\n",
       "  </thead>\n",
       "  <tbody>\n",
       "    <tr>\n",
       "      <th>0</th>\n",
       "      <td>Supreme®/Dr. Martens® 1461 3-Eye Shoe</td>\n",
       "      <td>Smooth leather upper with topcoat that reveals...</td>\n",
       "      <td>$188</td>\n",
       "      <td>['https://us.supreme.com/cdn/shop/files/SNE3_S...</td>\n",
       "    </tr>\n",
       "    <tr>\n",
       "      <th>1</th>\n",
       "      <td>GORE-TEX Taped Seam Shell Jacket</td>\n",
       "      <td>Waterproof, breathable GORE-TEX poly 3-layer s...</td>\n",
       "      <td>$398</td>\n",
       "      <td>['https://us.supreme.com/cdn/shop/files/J12_SS...</td>\n",
       "    </tr>\n",
       "    <tr>\n",
       "      <th>2</th>\n",
       "      <td>RealTree® Reversible Quilted Work Jacket</td>\n",
       "      <td>All cotton twill with 3M® Thinsulate™ insulati...</td>\n",
       "      <td>$248</td>\n",
       "      <td>['https://us.supreme.com/cdn/shop/files/J18_SS...</td>\n",
       "    </tr>\n",
       "    <tr>\n",
       "      <th>3</th>\n",
       "      <td>Micro Down Jacket</td>\n",
       "      <td>Water resistant Pertex® recycled nylon with do...</td>\n",
       "      <td>$248</td>\n",
       "      <td>['https://us.supreme.com/cdn/shop/files/J17_SS...</td>\n",
       "    </tr>\n",
       "    <tr>\n",
       "      <th>4</th>\n",
       "      <td>Inset Link Track Jacket</td>\n",
       "      <td>Water resistant Supplex® nylon taslan with ins...</td>\n",
       "      <td>$178</td>\n",
       "      <td>[]</td>\n",
       "    </tr>\n",
       "  </tbody>\n",
       "</table>\n",
       "</div>"
      ],
      "text/plain": [
       "                                       Name  \\\n",
       "0     Supreme®/Dr. Martens® 1461 3-Eye Shoe   \n",
       "1          GORE-TEX Taped Seam Shell Jacket   \n",
       "2  RealTree® Reversible Quilted Work Jacket   \n",
       "3                         Micro Down Jacket   \n",
       "4                   Inset Link Track Jacket   \n",
       "\n",
       "                                         Description Price  \\\n",
       "0  Smooth leather upper with topcoat that reveals...  $188   \n",
       "1  Waterproof, breathable GORE-TEX poly 3-layer s...  $398   \n",
       "2  All cotton twill with 3M® Thinsulate™ insulati...  $248   \n",
       "3  Water resistant Pertex® recycled nylon with do...  $248   \n",
       "4  Water resistant Supplex® nylon taslan with ins...  $178   \n",
       "\n",
       "                                          Image URLs  \n",
       "0  ['https://us.supreme.com/cdn/shop/files/SNE3_S...  \n",
       "1  ['https://us.supreme.com/cdn/shop/files/J12_SS...  \n",
       "2  ['https://us.supreme.com/cdn/shop/files/J18_SS...  \n",
       "3  ['https://us.supreme.com/cdn/shop/files/J17_SS...  \n",
       "4                                                 []  "
      ]
     },
     "execution_count": 23,
     "metadata": {},
     "output_type": "execute_result"
    }
   ],
   "source": [
    "df.head()"
   ]
  },
  {
   "cell_type": "code",
   "execution_count": 24,
   "metadata": {},
   "outputs": [],
   "source": [
    "grailed = pd.read_csv('scraped_item_listings/grailed_long.csv')"
   ]
  },
  {
   "cell_type": "code",
   "execution_count": 25,
   "metadata": {},
   "outputs": [
    {
     "data": {
      "text/html": [
       "<div>\n",
       "<style scoped>\n",
       "    .dataframe tbody tr th:only-of-type {\n",
       "        vertical-align: middle;\n",
       "    }\n",
       "\n",
       "    .dataframe tbody tr th {\n",
       "        vertical-align: top;\n",
       "    }\n",
       "\n",
       "    .dataframe thead th {\n",
       "        text-align: right;\n",
       "    }\n",
       "</style>\n",
       "<table border=\"1\" class=\"dataframe\">\n",
       "  <thead>\n",
       "    <tr style=\"text-align: right;\">\n",
       "      <th></th>\n",
       "      <th>Name</th>\n",
       "      <th>Price</th>\n",
       "      <th>Image URL</th>\n",
       "      <th>Link</th>\n",
       "    </tr>\n",
       "  </thead>\n",
       "  <tbody>\n",
       "    <tr>\n",
       "      <th>0</th>\n",
       "      <td>SUPREME x Hanes/plain thin t-shirt/29239 - 867 50</td>\n",
       "      <td>$90</td>\n",
       "      <td>https://media-assets.grailed.com/prd/listing/t...</td>\n",
       "      <td>https://www.grailed.com/listings/58373041-hane...</td>\n",
       "    </tr>\n",
       "    <tr>\n",
       "      <th>1</th>\n",
       "      <td>The north face</td>\n",
       "      <td>$162</td>\n",
       "      <td>https://media-assets.grailed.com/prd/listing/t...</td>\n",
       "      <td>https://www.grailed.com/listings/57996108-supr...</td>\n",
       "    </tr>\n",
       "    <tr>\n",
       "      <th>2</th>\n",
       "      <td>Supreme Hanes Boxer Brief in fluorescent yello...</td>\n",
       "      <td>$22</td>\n",
       "      <td>https://media-assets.grailed.com/prd/listing/4...</td>\n",
       "      <td>https://www.grailed.com/listings/44737363-hane...</td>\n",
       "    </tr>\n",
       "    <tr>\n",
       "      <th>3</th>\n",
       "      <td>Vintage Supreme King Tubby distressed Tee Shirt</td>\n",
       "      <td>$145</td>\n",
       "      <td>https://media-assets.grailed.com/prd/listing/3...</td>\n",
       "      <td>https://www.grailed.com/listings/57810032-stre...</td>\n",
       "    </tr>\n",
       "    <tr>\n",
       "      <th>4</th>\n",
       "      <td>Supreme Loose Gauge Beanie Kaki O/S (one size)</td>\n",
       "      <td>$89</td>\n",
       "      <td>https://media-assets.grailed.com/prd/listing/3...</td>\n",
       "      <td>https://www.grailed.com/listings/58386680-supr...</td>\n",
       "    </tr>\n",
       "    <tr>\n",
       "      <th>...</th>\n",
       "      <td>...</td>\n",
       "      <td>...</td>\n",
       "      <td>...</td>\n",
       "      <td>...</td>\n",
       "    </tr>\n",
       "    <tr>\n",
       "      <th>209</th>\n",
       "      <td>Supreme Raymay Pocket Microscope Keychain</td>\n",
       "      <td>$57</td>\n",
       "      <td>https://media-assets.grailed.com/prd/listing/4...</td>\n",
       "      <td>https://www.grailed.com/listings/57384309-supr...</td>\n",
       "    </tr>\n",
       "    <tr>\n",
       "      <th>210</th>\n",
       "      <td>SS21 Supreme Loose Gauge Beanie BEIGE</td>\n",
       "      <td>$80</td>\n",
       "      <td>https://media-assets.grailed.com/prd/listing/4...</td>\n",
       "      <td>https://www.grailed.com/listings/57704794-supr...</td>\n",
       "    </tr>\n",
       "    <tr>\n",
       "      <th>211</th>\n",
       "      <td>Supreme Inverted Stripe S/S Top</td>\n",
       "      <td>$88</td>\n",
       "      <td>https://media-assets.grailed.com/prd/listing/t...</td>\n",
       "      <td>https://www.grailed.com/listings/58681588-supr...</td>\n",
       "    </tr>\n",
       "    <tr>\n",
       "      <th>212</th>\n",
       "      <td>SUPREME X THE NORTH FACE BEANIE SULPHUR FW 2018</td>\n",
       "      <td>$78</td>\n",
       "      <td>https://media-assets.grailed.com/prd/listing/3...</td>\n",
       "      <td>https://www.grailed.com/listings/57057598-supr...</td>\n",
       "    </tr>\n",
       "    <tr>\n",
       "      <th>213</th>\n",
       "      <td>Supreme X Playboy Denim Jacket SS14</td>\n",
       "      <td>$495</td>\n",
       "      <td>https://media-assets.grailed.com/prd/listing/t...</td>\n",
       "      <td>https://www.grailed.com/listings/57838345-play...</td>\n",
       "    </tr>\n",
       "  </tbody>\n",
       "</table>\n",
       "<p>214 rows × 4 columns</p>\n",
       "</div>"
      ],
      "text/plain": [
       "                                                  Name Price  \\\n",
       "0    SUPREME x Hanes/plain thin t-shirt/29239 - 867 50   $90   \n",
       "1                                       The north face  $162   \n",
       "2    Supreme Hanes Boxer Brief in fluorescent yello...   $22   \n",
       "3      Vintage Supreme King Tubby distressed Tee Shirt  $145   \n",
       "4       Supreme Loose Gauge Beanie Kaki O/S (one size)   $89   \n",
       "..                                                 ...   ...   \n",
       "209          Supreme Raymay Pocket Microscope Keychain   $57   \n",
       "210              SS21 Supreme Loose Gauge Beanie BEIGE   $80   \n",
       "211                    Supreme Inverted Stripe S/S Top   $88   \n",
       "212    SUPREME X THE NORTH FACE BEANIE SULPHUR FW 2018   $78   \n",
       "213                Supreme X Playboy Denim Jacket SS14  $495   \n",
       "\n",
       "                                             Image URL  \\\n",
       "0    https://media-assets.grailed.com/prd/listing/t...   \n",
       "1    https://media-assets.grailed.com/prd/listing/t...   \n",
       "2    https://media-assets.grailed.com/prd/listing/4...   \n",
       "3    https://media-assets.grailed.com/prd/listing/3...   \n",
       "4    https://media-assets.grailed.com/prd/listing/3...   \n",
       "..                                                 ...   \n",
       "209  https://media-assets.grailed.com/prd/listing/4...   \n",
       "210  https://media-assets.grailed.com/prd/listing/4...   \n",
       "211  https://media-assets.grailed.com/prd/listing/t...   \n",
       "212  https://media-assets.grailed.com/prd/listing/3...   \n",
       "213  https://media-assets.grailed.com/prd/listing/t...   \n",
       "\n",
       "                                                  Link  \n",
       "0    https://www.grailed.com/listings/58373041-hane...  \n",
       "1    https://www.grailed.com/listings/57996108-supr...  \n",
       "2    https://www.grailed.com/listings/44737363-hane...  \n",
       "3    https://www.grailed.com/listings/57810032-stre...  \n",
       "4    https://www.grailed.com/listings/58386680-supr...  \n",
       "..                                                 ...  \n",
       "209  https://www.grailed.com/listings/57384309-supr...  \n",
       "210  https://www.grailed.com/listings/57704794-supr...  \n",
       "211  https://www.grailed.com/listings/58681588-supr...  \n",
       "212  https://www.grailed.com/listings/57057598-supr...  \n",
       "213  https://www.grailed.com/listings/57838345-play...  \n",
       "\n",
       "[214 rows x 4 columns]"
      ]
     },
     "execution_count": 25,
     "metadata": {},
     "output_type": "execute_result"
    }
   ],
   "source": [
    "grailed"
   ]
  },
  {
   "cell_type": "code",
   "execution_count": 26,
   "metadata": {},
   "outputs": [],
   "source": [
    "gpl = grailed[\"Price\"]"
   ]
  },
  {
   "cell_type": "code",
   "execution_count": 27,
   "metadata": {},
   "outputs": [],
   "source": [
    "gpl_prices = sorted([int(i.replace(\"$\", \"\")) for i in gpl])"
   ]
  },
  {
   "cell_type": "code",
   "execution_count": 38,
   "metadata": {},
   "outputs": [
    {
     "data": {
      "application/vnd.plotly.v1+json": {
       "config": {
        "plotlyServerURL": "https://plot.ly"
       },
       "data": [
        {
         "alignmentgroup": "True",
         "bingroup": "x",
         "hovertemplate": "variable=Name<br>value=%{x}<br>count=%{y}<extra></extra>",
         "legendgroup": "Name",
         "marker": {
          "color": "#636efa",
          "pattern": {
           "shape": ""
          }
         },
         "name": "Name",
         "offsetgroup": "Name",
         "orientation": "v",
         "showlegend": true,
         "type": "histogram",
         "x": [
          "SUPREME x Hanes/plain thin t-shirt/29239 - 867 50",
          "The north face",
          "Supreme Hanes Boxer Brief in fluorescent yellow- 1 pair- (M)",
          "Vintage Supreme King Tubby distressed Tee Shirt",
          "Supreme Loose Gauge Beanie Kaki O/S (one size)",
          "Supreme Floating Keychain Black FW23",
          "Supreme SS18 Chicken Dinner Tee",
          "Supreme SS19 Hard Goods Tee",
          "Supreme Spitfire Tee SS18",
          "Supreme FW19 Inc Tee",
          "Supreme FW19 Dead Prez Tee",
          "Supreme SS18 Gonz logo Tee",
          "Supreme St. Ides Tee SS16",
          "SupremeAW22 Alien Tee",
          "Supreme SS18 Gonz Logo Tee",
          "Supreme FW20 Classics Tee",
          "supreme world famous crewneck",
          "Supreme SS/21 Supreme Royal Logo-Patch Backpack",
          "Supreme tee peach size xl",
          "Supreme Small Box Logo Tee",
          "Gilbert and George DEATH Tee",
          "Supreme Hanes Boxer Brief in fluorescent yellow- 1 pair- (M)",
          "Supreme Swimmers T-Shirt - White - Size Large",
          "Supreme Thrasher Hooded Sweatshirt",
          "Supreme Hellraiser Pinhead t shirt white SS18",
          "Supreme Children T-Shirt / DS",
          "Supreme x Cdg box logo size large",
          "Supreme X Dr. Martin X Undercover Oxford 3 eye shoes",
          "Vintage Supreme 2017 Brush Logo Heavyweight White Hoodie",
          "Supreme Hanes Boxer Brief- 1 pair (L)",
          "Supreme fw19 Cone hoodie",
          "Supreme For Lovers Tee FW20",
          "Supreme Ultra Fresh Tee FW20",
          "Supreme Shaolin Temple Tee SS16",
          "Supreme SS21 Milano Tee",
          "Supreme Arc Logo Tee",
          "Supreme Patchwork Reversible Jacket",
          "Supreme x Burberry Crusher Bucket Hat Size M/L",
          "Supreme camo camp cap",
          "Supreme rusty wash selvedge denim jeans",
          "Supreme Inside Out Box Logo Hooded Sweatshirt Black • M",
          "Supreme Knitwear Striped Embroidery Logos Swearshirt",
          "Supreme Loose Gauge Beanie (FW21) Light Green O/S",
          "F/W 16 Harrington Denim Jacket",
          "Supreme Camo Messenger",
          "Supreme New Era Swarovski S Logo Beanie Black",
          "Supreme 2003 Denver Nuggets Skyline Trucker Hat",
          "Red Black Cotton Hoodie Sweatshirt",
          "Burgundy Gold Embroidery Cotton Hoodie Sweatshirt",
          "Red Logo Cotton CrewNeck Sweatshirt",
          "Supreme The North Face Suede Small Base Camp Duffle Bag",
          "Tuque Supreme Basic Beanie Grey (FW19)",
          "Vintage Supreme 5 Panel Hat 3M",
          "Tuque Supreme Basic Beanie Navy (FW19)",
          "Supreme shirt",
          "Supreme Loose Gauge Beanie (FW21) White O/S (one size)",
          "Tuque Supreme Loose Gauge Beanie Navy (FW21)",
          "Supreme Beanie Gonz Logo Burnt Red O/S (one size)",
          "Tuque Supreme Loose Gauge Beanie Heather Grey",
          "Tuque Supreme Loose Gauge Beanie Navy (FW21)",
          "Tuque Supreme Heather Loose Gauge Beanie Heather Gold (FW17)",
          "Tuque Supreme Rainbow Knit Beanie Navy",
          "Supreme Shrek Beanie Red O/S (one size)",
          "The Great China Wall Hooded Work Jacket",
          "Black White Graphic Hooded Sweatshirt",
          "x HANES Black White Checkered Cotton Tshirt",
          "x HANES Black White Checkered Cotton CrewNeck Tshirt",
          "SS21 Black Rock Concert Cotton CrewNeck Tshirt",
          "SS 19 Collection Red Grey Camouflage Silk Button Up Long Sleeve Shirt",
          "Supreme Hanes Boxer Brief (M)& pair of socks (1 of each)",
          "RARE Streetwear Hannes Supreme Bandana Logo Black Tee",
          "Supreme beanie hat spellout patches",
          "Supreme Royal Blue Box Logo Hoodie 2008",
          "Supeme super black chinos pants",
          "Supreme Stencil Metal Plate Logo Beanie",
          "Supreme short sleeve button down shirt",
          "Supreme Hanes Boxer Brief- 1 pair (XL)",
          "Supreme World Famous Team Show Joe Cool Tee Large SS07",
          "Classic Ad Logo yellow Hoodie 2019 boxy rare streetwear",
          "Supreme League Tee White • XL",
          "Supreme x The North Face Nuptse Leaves F/W16 Size Medium",
          "Supreme FW 2012 Duck Camo Box Logo Hoodie",
          "Supreme Hanes Boxer Brief (L)& pair of socks (1 of each)",
          "Supreme Hanes Boxer Brief- 1 pair (XL)",
          "SUPREME x Hanes/plain thin t-shirt/20129 - 867 50",
          "Supreme beanie",
          "Supreme beanie",
          "Supreme beanie",
          "Supreme John Lydon Japan Exclusive 1/200 Tee Vintage",
          "Black Nike SB x Supreme Blazer size 11",
          "Supreme mini logo hoody green size medium",
          "Supreme/antihero pos tee",
          "Supreme Hardware Tee SS18 Size Large Color Ash Worn Once",
          "Long Sleeve Supreme Tee",
          "Supreme x Lacoste Jacket",
          "Supreme Tee",
          "Supreme Cargo Pants",
          "Supreme Sweatshirt",
          "Illegal Business Skate Deck",
          "Rare supreme S shorts",
          "Supreme Nike jersey and shorts size M",
          "Supreme x Andres Serrano Piss Christ T Shirt Size L",
          "Supreme Plant Tee FW17",
          "Supreme Time Tee SS20",
          "Supreme SS20 Morph Tee",
          "Supreme Athletic Label Tee SS19",
          "Supreme SS18 Cheese Tee",
          "Supreme SS21 Dunk Tee",
          "Supreme Futura Logo FW20",
          "Supreme Joie de vivre",
          "Supreme Studded Hoodie SS18",
          "Supreme Playboy Button Up",
          "Vintage BMW Motorcycles Long Sleeve tee",
          "SUPREME SMALL BAGGY MESH SHORT",
          "Supreme X Champion Hoodie SS18",
          "Supreme Spitfire Coach",
          "Supreme Velvet S Logo Hat",
          "Supreme Vintage Y2K Beanie Striped Hat",
          "SUPREME X CHAMPION ARC ZIP UP HOODIE FW 17",
          "Group Tee",
          "CDG Box Logo Tee White SS17",
          "Box Logo Pullover Hoodie Red Tonal FW14",
          "Supreme Clientele FW20 Tee",
          "Supreme “Chocolate Chip Camo” Crewneck",
          "Supreme “Chocolate Chip Camo” Crewneck",
          "Stud Mountain Light Jacket",
          "Dogs And Ducks Jacket",
          "Covid Box Logo Tee",
          "Silk Pattern Bomber Jacket",
          "SUPREME 2000s BOYZ N THE HOOD TEE IN YELLOW",
          "SUPREME 1998 OLIVE GREEN TONAL BOX LOGO TEE",
          "Red Riding Hood Tee",
          "Chosen One Baseball Jersey",
          "Supreme “King “ Tee Shirt - Tan - Size Medium - Authentic",
          "SUPREME B.B. SIMON STUDDED PUFFER JACKET",
          "Supreme Motion Logo Tee Purple",
          "Supreme x The North Face Split Taped Seam Shell Jacket",
          "Supreme Faribault Woolen Mill Co Box Logo Wool Blanket",
          "SUPREME CDG SHIRT SCHOTT PAINTED PERFECTO LEATHER JACKET",
          "SUPREME FUTURA FISHTAIL PARKA",
          "Supreme sock",
          "Astro world",
          "Supreme Repeat Stitch Track Pant",
          "FW23 Box logo hoodie White",
          "Supreme x Scientist Jah Life In Dub Tee",
          "Supreme SS22 Nate Lowman Double Knee Pants",
          "SUPREME RAMELLZEE Book Vol 6 Magazine JOHN LYDON dunk",
          "SUPREME Sweater Cable Knit Collar Zip Jumper A8018-S",
          "Hanes Supreme White T-Shirts (3PK)",
          "Supreme Timberland Crewneck",
          "Supreme Shattered Logo Crewneck",
          "Supreme Felt Shadow Crewneck",
          "Supreme Thrasher Game Tee",
          "Supreme Connected Tee",
          "Supreme Crash Tee",
          "Supreme Faux Croc Football Jersey",
          "Supreme Timberland double knee painter pants",
          "SUPREME ANDRES SERRANO PISS CHRIST HOODIE SZ SMALL",
          "Supreme “Belly” Jacket",
          "Supreme Twist Beanie",
          "Supreme Hoodie",
          "Supreme Reversible Logo Fleece",
          "Supreme Gold Cross S Logo New Era Fitted Hat",
          "Nike Supreme x SB Blazer Low GT QS 'Cannon'",
          "Supreme Leigh Bowery Airbrush Button-up Shirt",
          "Supreme Andres Serrano “Piss Christ” Tee Worn",
          "Supreme Box Logo Hoodie XXL White",
          "Supreme Dream Rayon",
          "Supreme 2024 Logo Beanie",
          "FW20 Supreme TNF Expedition S Logo Backpack Lime Green",
          "Supreme Gradient Spacedye Beanie (SS24) Olive",
          "Supreme Shanghai box logo opening sticker",
          "Supreme Inside Out Crewneck Sweatshirt",
          "Supreme Person Tee Size large",
          "FW16 Shadow Plaid Coat",
          "Supreme Hockey Hooded Sweatshirt",
          "Supreme SS15 2015 Astronaut Hoodie",
          "Supreme Alien Tee in Blue M Short Sleeve",
          "Supreme brooks brothers seersucker hat SS14’",
          "2007 Supreme X Wtaps Metal Militia Made in USA",
          "Supreme White Embroidered Hoodie",
          "SUPREME ANDREI MOLODKIN 10TH ANNIVERSARY SKATEBOARD DECK SET",
          "Supreme X Champion",
          "Supreme Michael Jackson Tee - White Large",
          "Supreme Muhammad Ali Tee - White Large",
          "2-Tone Paneled Denim Jean",
          "Supreme Box Logo Long sleeve",
          "Supreme Comme des Garcons SHIRT Box Logo T-Shirt M Polka Dot",
          "Supreme 20th Anniversary Taxi Driver Skateboard 2014 Natural",
          "Supreme Polartec Camp Cap",
          "Come Des Garcons X Supreme ss13 camo shirt",
          "Come Des Garcons X Supreme ss13 camo shirt",
          "Supreme 6 panel cap FW17",
          "Supreme Smile Tee / RARE ORANGE CUSTOM",
          "Supreme Scarface Knit Sweater",
          "Supreme spellout embroidered track jacket",
          "Supreme Tiffany & Co.Box Logo Tee White",
          "Vans x Supreme Sk8-Hi Pro Campbell Soup",
          "Supreme Shoulder Bag",
          "2012 Supreme Tartan Plaid - RARE",
          "Supreme x nike air force 1 HIGH world famous",
          "Supreme Motion Logo Shirt",
          "supreme hanes socks *2 pairs",
          "Supreme ganesh fur faux jacket",
          "Supreme®/The North Face® S/S Top - Red - Medium",
          "SUPREME BOX LOGO SLEEVE PATCH HOODIE",
          "SUPREME YANKEES BOX LOGO",
          "Supreme MF Doom Tee Shirt Black Size M",
          "Supreme Inside Out Box Logo - Black - Medium",
          "Supreme Raymay Pocket Microscope Keychain",
          "SS21 Supreme Loose Gauge Beanie BEIGE",
          "Supreme Inverted Stripe S/S Top",
          "SUPREME X THE NORTH FACE BEANIE SULPHUR FW 2018",
          "Supreme X Playboy Denim Jacket SS14"
         ],
         "xaxis": "x",
         "yaxis": "y"
        },
        {
         "alignmentgroup": "True",
         "bingroup": "x",
         "hovertemplate": "variable=Price<br>value=%{x}<br>count=%{y}<extra></extra>",
         "legendgroup": "Price",
         "marker": {
          "color": "#EF553B",
          "pattern": {
           "shape": ""
          }
         },
         "name": "Price",
         "offsetgroup": "Price",
         "orientation": "v",
         "showlegend": true,
         "type": "histogram",
         "x": [
          "$90",
          "$162",
          "$22",
          "$145",
          "$89",
          "$31",
          "$50",
          "$45",
          "$45",
          "$50",
          "$50",
          "$45",
          "$50",
          "$50",
          "$50",
          "$50",
          "$87",
          "$675",
          "$49",
          "$12",
          "$89",
          "$22",
          "$94",
          "$144",
          "$247",
          "$44",
          "$87",
          "$91",
          "$198",
          "$25",
          "$145",
          "$54",
          "$54",
          "$50",
          "$54",
          "$44",
          "$270",
          "$210",
          "$162",
          "$126",
          "$235",
          "$136",
          "$89",
          "$199",
          "$101",
          "$202",
          "$84",
          "$250",
          "$197",
          "$286",
          "$405",
          "$56",
          "$54",
          "$56",
          "$40",
          "$71",
          "$71",
          "$71",
          "$71",
          "$71",
          "$79",
          "$71",
          "$77",
          "$393",
          "$185",
          "$80",
          "$80",
          "$59",
          "$236",
          "$22",
          "$47",
          "$121",
          "$720",
          "$202",
          "$90",
          "$72",
          "$18",
          "$54",
          "$108",
          "$108",
          "$546",
          "$210",
          "$24",
          "$18",
          "$90",
          "$54",
          "$54",
          "$54",
          "$378",
          "$72",
          "$51",
          "$54",
          "$49",
          "$28",
          "$81",
          "$27",
          "$126",
          "$64",
          "$143",
          "$50",
          "$300",
          "$58",
          "$54",
          "$54",
          "$50",
          "$45",
          "$54",
          "$45",
          "$54",
          "$50",
          "$82",
          "$268",
          "$45",
          "$56",
          "$360",
          "$116",
          "$47",
          "$38",
          "$315",
          "$95",
          "$135",
          "$324",
          "$80",
          "$78",
          "$72",
          "$254",
          "$540",
          "$225",
          "$315",
          "$105",
          "$459",
          "$57",
          "$275",
          "$36",
          "$815",
          "$63",
          "$520",
          "$525",
          "$1000",
          "$605",
          "$32",
          "$63",
          "$121",
          "$180",
          "$108",
          "$315",
          "$81",
          "$105",
          "$13",
          "$119",
          "$115",
          "$106",
          "$39",
          "$34",
          "$39",
          "$126",
          "$228",
          "$173",
          "$900",
          "$99",
          "$104",
          "$234",
          "$63",
          "$99",
          "$126",
          "$30",
          "$198",
          "$108",
          "$54",
          "$133",
          "$80",
          "$39",
          "$405",
          "$64",
          "$189",
          "$94",
          "$104",
          "$44",
          "$157",
          "$45",
          "$22",
          "$1841",
          "$375",
          "$117",
          "$97",
          "$283",
          "$72",
          "$152",
          "$90",
          "$32",
          "$179",
          "$179",
          "$24",
          "$58",
          "$194",
          "$360",
          "$189",
          "$144",
          "$72",
          "$178",
          "$534",
          "$70",
          "$28",
          "$486",
          "$142",
          "$129",
          "$145",
          "$108",
          "$181",
          "$57",
          "$80",
          "$88",
          "$78",
          "$495"
         ],
         "xaxis": "x",
         "yaxis": "y"
        }
       ],
       "layout": {
        "barmode": "relative",
        "legend": {
         "title": {
          "text": "variable"
         },
         "tracegroupgap": 0
        },
        "margin": {
         "t": 60
        },
        "template": {
         "data": {
          "bar": [
           {
            "error_x": {
             "color": "#2a3f5f"
            },
            "error_y": {
             "color": "#2a3f5f"
            },
            "marker": {
             "line": {
              "color": "#E5ECF6",
              "width": 0.5
             },
             "pattern": {
              "fillmode": "overlay",
              "size": 10,
              "solidity": 0.2
             }
            },
            "type": "bar"
           }
          ],
          "barpolar": [
           {
            "marker": {
             "line": {
              "color": "#E5ECF6",
              "width": 0.5
             },
             "pattern": {
              "fillmode": "overlay",
              "size": 10,
              "solidity": 0.2
             }
            },
            "type": "barpolar"
           }
          ],
          "carpet": [
           {
            "aaxis": {
             "endlinecolor": "#2a3f5f",
             "gridcolor": "white",
             "linecolor": "white",
             "minorgridcolor": "white",
             "startlinecolor": "#2a3f5f"
            },
            "baxis": {
             "endlinecolor": "#2a3f5f",
             "gridcolor": "white",
             "linecolor": "white",
             "minorgridcolor": "white",
             "startlinecolor": "#2a3f5f"
            },
            "type": "carpet"
           }
          ],
          "choropleth": [
           {
            "colorbar": {
             "outlinewidth": 0,
             "ticks": ""
            },
            "type": "choropleth"
           }
          ],
          "contour": [
           {
            "colorbar": {
             "outlinewidth": 0,
             "ticks": ""
            },
            "colorscale": [
             [
              0,
              "#0d0887"
             ],
             [
              0.1111111111111111,
              "#46039f"
             ],
             [
              0.2222222222222222,
              "#7201a8"
             ],
             [
              0.3333333333333333,
              "#9c179e"
             ],
             [
              0.4444444444444444,
              "#bd3786"
             ],
             [
              0.5555555555555556,
              "#d8576b"
             ],
             [
              0.6666666666666666,
              "#ed7953"
             ],
             [
              0.7777777777777778,
              "#fb9f3a"
             ],
             [
              0.8888888888888888,
              "#fdca26"
             ],
             [
              1,
              "#f0f921"
             ]
            ],
            "type": "contour"
           }
          ],
          "contourcarpet": [
           {
            "colorbar": {
             "outlinewidth": 0,
             "ticks": ""
            },
            "type": "contourcarpet"
           }
          ],
          "heatmap": [
           {
            "colorbar": {
             "outlinewidth": 0,
             "ticks": ""
            },
            "colorscale": [
             [
              0,
              "#0d0887"
             ],
             [
              0.1111111111111111,
              "#46039f"
             ],
             [
              0.2222222222222222,
              "#7201a8"
             ],
             [
              0.3333333333333333,
              "#9c179e"
             ],
             [
              0.4444444444444444,
              "#bd3786"
             ],
             [
              0.5555555555555556,
              "#d8576b"
             ],
             [
              0.6666666666666666,
              "#ed7953"
             ],
             [
              0.7777777777777778,
              "#fb9f3a"
             ],
             [
              0.8888888888888888,
              "#fdca26"
             ],
             [
              1,
              "#f0f921"
             ]
            ],
            "type": "heatmap"
           }
          ],
          "heatmapgl": [
           {
            "colorbar": {
             "outlinewidth": 0,
             "ticks": ""
            },
            "colorscale": [
             [
              0,
              "#0d0887"
             ],
             [
              0.1111111111111111,
              "#46039f"
             ],
             [
              0.2222222222222222,
              "#7201a8"
             ],
             [
              0.3333333333333333,
              "#9c179e"
             ],
             [
              0.4444444444444444,
              "#bd3786"
             ],
             [
              0.5555555555555556,
              "#d8576b"
             ],
             [
              0.6666666666666666,
              "#ed7953"
             ],
             [
              0.7777777777777778,
              "#fb9f3a"
             ],
             [
              0.8888888888888888,
              "#fdca26"
             ],
             [
              1,
              "#f0f921"
             ]
            ],
            "type": "heatmapgl"
           }
          ],
          "histogram": [
           {
            "marker": {
             "pattern": {
              "fillmode": "overlay",
              "size": 10,
              "solidity": 0.2
             }
            },
            "type": "histogram"
           }
          ],
          "histogram2d": [
           {
            "colorbar": {
             "outlinewidth": 0,
             "ticks": ""
            },
            "colorscale": [
             [
              0,
              "#0d0887"
             ],
             [
              0.1111111111111111,
              "#46039f"
             ],
             [
              0.2222222222222222,
              "#7201a8"
             ],
             [
              0.3333333333333333,
              "#9c179e"
             ],
             [
              0.4444444444444444,
              "#bd3786"
             ],
             [
              0.5555555555555556,
              "#d8576b"
             ],
             [
              0.6666666666666666,
              "#ed7953"
             ],
             [
              0.7777777777777778,
              "#fb9f3a"
             ],
             [
              0.8888888888888888,
              "#fdca26"
             ],
             [
              1,
              "#f0f921"
             ]
            ],
            "type": "histogram2d"
           }
          ],
          "histogram2dcontour": [
           {
            "colorbar": {
             "outlinewidth": 0,
             "ticks": ""
            },
            "colorscale": [
             [
              0,
              "#0d0887"
             ],
             [
              0.1111111111111111,
              "#46039f"
             ],
             [
              0.2222222222222222,
              "#7201a8"
             ],
             [
              0.3333333333333333,
              "#9c179e"
             ],
             [
              0.4444444444444444,
              "#bd3786"
             ],
             [
              0.5555555555555556,
              "#d8576b"
             ],
             [
              0.6666666666666666,
              "#ed7953"
             ],
             [
              0.7777777777777778,
              "#fb9f3a"
             ],
             [
              0.8888888888888888,
              "#fdca26"
             ],
             [
              1,
              "#f0f921"
             ]
            ],
            "type": "histogram2dcontour"
           }
          ],
          "mesh3d": [
           {
            "colorbar": {
             "outlinewidth": 0,
             "ticks": ""
            },
            "type": "mesh3d"
           }
          ],
          "parcoords": [
           {
            "line": {
             "colorbar": {
              "outlinewidth": 0,
              "ticks": ""
             }
            },
            "type": "parcoords"
           }
          ],
          "pie": [
           {
            "automargin": true,
            "type": "pie"
           }
          ],
          "scatter": [
           {
            "fillpattern": {
             "fillmode": "overlay",
             "size": 10,
             "solidity": 0.2
            },
            "type": "scatter"
           }
          ],
          "scatter3d": [
           {
            "line": {
             "colorbar": {
              "outlinewidth": 0,
              "ticks": ""
             }
            },
            "marker": {
             "colorbar": {
              "outlinewidth": 0,
              "ticks": ""
             }
            },
            "type": "scatter3d"
           }
          ],
          "scattercarpet": [
           {
            "marker": {
             "colorbar": {
              "outlinewidth": 0,
              "ticks": ""
             }
            },
            "type": "scattercarpet"
           }
          ],
          "scattergeo": [
           {
            "marker": {
             "colorbar": {
              "outlinewidth": 0,
              "ticks": ""
             }
            },
            "type": "scattergeo"
           }
          ],
          "scattergl": [
           {
            "marker": {
             "colorbar": {
              "outlinewidth": 0,
              "ticks": ""
             }
            },
            "type": "scattergl"
           }
          ],
          "scattermapbox": [
           {
            "marker": {
             "colorbar": {
              "outlinewidth": 0,
              "ticks": ""
             }
            },
            "type": "scattermapbox"
           }
          ],
          "scatterpolar": [
           {
            "marker": {
             "colorbar": {
              "outlinewidth": 0,
              "ticks": ""
             }
            },
            "type": "scatterpolar"
           }
          ],
          "scatterpolargl": [
           {
            "marker": {
             "colorbar": {
              "outlinewidth": 0,
              "ticks": ""
             }
            },
            "type": "scatterpolargl"
           }
          ],
          "scatterternary": [
           {
            "marker": {
             "colorbar": {
              "outlinewidth": 0,
              "ticks": ""
             }
            },
            "type": "scatterternary"
           }
          ],
          "surface": [
           {
            "colorbar": {
             "outlinewidth": 0,
             "ticks": ""
            },
            "colorscale": [
             [
              0,
              "#0d0887"
             ],
             [
              0.1111111111111111,
              "#46039f"
             ],
             [
              0.2222222222222222,
              "#7201a8"
             ],
             [
              0.3333333333333333,
              "#9c179e"
             ],
             [
              0.4444444444444444,
              "#bd3786"
             ],
             [
              0.5555555555555556,
              "#d8576b"
             ],
             [
              0.6666666666666666,
              "#ed7953"
             ],
             [
              0.7777777777777778,
              "#fb9f3a"
             ],
             [
              0.8888888888888888,
              "#fdca26"
             ],
             [
              1,
              "#f0f921"
             ]
            ],
            "type": "surface"
           }
          ],
          "table": [
           {
            "cells": {
             "fill": {
              "color": "#EBF0F8"
             },
             "line": {
              "color": "white"
             }
            },
            "header": {
             "fill": {
              "color": "#C8D4E3"
             },
             "line": {
              "color": "white"
             }
            },
            "type": "table"
           }
          ]
         },
         "layout": {
          "annotationdefaults": {
           "arrowcolor": "#2a3f5f",
           "arrowhead": 0,
           "arrowwidth": 1
          },
          "autotypenumbers": "strict",
          "coloraxis": {
           "colorbar": {
            "outlinewidth": 0,
            "ticks": ""
           }
          },
          "colorscale": {
           "diverging": [
            [
             0,
             "#8e0152"
            ],
            [
             0.1,
             "#c51b7d"
            ],
            [
             0.2,
             "#de77ae"
            ],
            [
             0.3,
             "#f1b6da"
            ],
            [
             0.4,
             "#fde0ef"
            ],
            [
             0.5,
             "#f7f7f7"
            ],
            [
             0.6,
             "#e6f5d0"
            ],
            [
             0.7,
             "#b8e186"
            ],
            [
             0.8,
             "#7fbc41"
            ],
            [
             0.9,
             "#4d9221"
            ],
            [
             1,
             "#276419"
            ]
           ],
           "sequential": [
            [
             0,
             "#0d0887"
            ],
            [
             0.1111111111111111,
             "#46039f"
            ],
            [
             0.2222222222222222,
             "#7201a8"
            ],
            [
             0.3333333333333333,
             "#9c179e"
            ],
            [
             0.4444444444444444,
             "#bd3786"
            ],
            [
             0.5555555555555556,
             "#d8576b"
            ],
            [
             0.6666666666666666,
             "#ed7953"
            ],
            [
             0.7777777777777778,
             "#fb9f3a"
            ],
            [
             0.8888888888888888,
             "#fdca26"
            ],
            [
             1,
             "#f0f921"
            ]
           ],
           "sequentialminus": [
            [
             0,
             "#0d0887"
            ],
            [
             0.1111111111111111,
             "#46039f"
            ],
            [
             0.2222222222222222,
             "#7201a8"
            ],
            [
             0.3333333333333333,
             "#9c179e"
            ],
            [
             0.4444444444444444,
             "#bd3786"
            ],
            [
             0.5555555555555556,
             "#d8576b"
            ],
            [
             0.6666666666666666,
             "#ed7953"
            ],
            [
             0.7777777777777778,
             "#fb9f3a"
            ],
            [
             0.8888888888888888,
             "#fdca26"
            ],
            [
             1,
             "#f0f921"
            ]
           ]
          },
          "colorway": [
           "#636efa",
           "#EF553B",
           "#00cc96",
           "#ab63fa",
           "#FFA15A",
           "#19d3f3",
           "#FF6692",
           "#B6E880",
           "#FF97FF",
           "#FECB52"
          ],
          "font": {
           "color": "#2a3f5f"
          },
          "geo": {
           "bgcolor": "white",
           "lakecolor": "white",
           "landcolor": "#E5ECF6",
           "showlakes": true,
           "showland": true,
           "subunitcolor": "white"
          },
          "hoverlabel": {
           "align": "left"
          },
          "hovermode": "closest",
          "mapbox": {
           "style": "light"
          },
          "paper_bgcolor": "white",
          "plot_bgcolor": "#E5ECF6",
          "polar": {
           "angularaxis": {
            "gridcolor": "white",
            "linecolor": "white",
            "ticks": ""
           },
           "bgcolor": "#E5ECF6",
           "radialaxis": {
            "gridcolor": "white",
            "linecolor": "white",
            "ticks": ""
           }
          },
          "scene": {
           "xaxis": {
            "backgroundcolor": "#E5ECF6",
            "gridcolor": "white",
            "gridwidth": 2,
            "linecolor": "white",
            "showbackground": true,
            "ticks": "",
            "zerolinecolor": "white"
           },
           "yaxis": {
            "backgroundcolor": "#E5ECF6",
            "gridcolor": "white",
            "gridwidth": 2,
            "linecolor": "white",
            "showbackground": true,
            "ticks": "",
            "zerolinecolor": "white"
           },
           "zaxis": {
            "backgroundcolor": "#E5ECF6",
            "gridcolor": "white",
            "gridwidth": 2,
            "linecolor": "white",
            "showbackground": true,
            "ticks": "",
            "zerolinecolor": "white"
           }
          },
          "shapedefaults": {
           "line": {
            "color": "#2a3f5f"
           }
          },
          "ternary": {
           "aaxis": {
            "gridcolor": "white",
            "linecolor": "white",
            "ticks": ""
           },
           "baxis": {
            "gridcolor": "white",
            "linecolor": "white",
            "ticks": ""
           },
           "bgcolor": "#E5ECF6",
           "caxis": {
            "gridcolor": "white",
            "linecolor": "white",
            "ticks": ""
           }
          },
          "title": {
           "x": 0.05
          },
          "xaxis": {
           "automargin": true,
           "gridcolor": "white",
           "linecolor": "white",
           "ticks": "",
           "title": {
            "standoff": 15
           },
           "zerolinecolor": "white",
           "zerolinewidth": 2
          },
          "yaxis": {
           "automargin": true,
           "gridcolor": "white",
           "linecolor": "white",
           "ticks": "",
           "title": {
            "standoff": 15
           },
           "zerolinecolor": "white",
           "zerolinewidth": 2
          }
         }
        },
        "xaxis": {
         "anchor": "y",
         "domain": [
          0,
          1
         ],
         "title": {
          "text": "value"
         }
        },
        "yaxis": {
         "anchor": "x",
         "domain": [
          0,
          1
         ],
         "title": {
          "text": "count"
         }
        }
       }
      }
     },
     "metadata": {},
     "output_type": "display_data"
    }
   ],
   "source": [
    "plotly.plot(grailed[[\"Name\",\"Price\"]], kind='hist')"
   ]
  },
  {
   "cell_type": "code",
   "execution_count": null,
   "metadata": {},
   "outputs": [],
   "source": []
  }
 ],
 "metadata": {
  "kernelspec": {
   "display_name": ".virtualenvs",
   "language": "python",
   "name": "python3"
  },
  "language_info": {
   "codemirror_mode": {
    "name": "ipython",
    "version": 3
   },
   "file_extension": ".py",
   "mimetype": "text/x-python",
   "name": "python",
   "nbconvert_exporter": "python",
   "pygments_lexer": "ipython3",
   "version": "3.10.13"
  }
 },
 "nbformat": 4,
 "nbformat_minor": 2
}
